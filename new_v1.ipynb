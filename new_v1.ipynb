{
 "cells": [
  {
   "cell_type": "markdown",
   "id": "0c2d7dd0-1221-45bc-8d4f-dd4243030c46",
   "metadata": {},
   "source": [
    "Testing jupyter noteboks"
   ]
  },
  {
   "cell_type": "code",
   "execution_count": 1,
   "id": "04677c21-ed1e-43fb-9bbc-0301008ed14b",
   "metadata": {},
   "outputs": [],
   "source": [
    "import file_v1"
   ]
  },
  {
   "cell_type": "code",
   "execution_count": 2,
   "id": "71d3aef4-e0b4-4f99-9387-4bd1675dd4c6",
   "metadata": {},
   "outputs": [
    {
     "data": {
      "text/plain": [
       "7"
      ]
     },
     "execution_count": 2,
     "metadata": {},
     "output_type": "execute_result"
    }
   ],
   "source": [
    "file_v1.days_of_the_week"
   ]
  },
  {
   "cell_type": "code",
   "execution_count": 3,
   "id": "3b000636-a1ac-466c-8a59-036c83ab6b28",
   "metadata": {},
   "outputs": [
    {
     "name": "stdout",
     "output_type": "stream",
     "text": [
      "Hello, world! Hello ethel\n"
     ]
    },
    {
     "data": {
      "text/plain": [
       "'ethel'"
      ]
     },
     "execution_count": 3,
     "metadata": {},
     "output_type": "execute_result"
    }
   ],
   "source": [
    "file_v1.say_hello('ethel')"
   ]
  },
  {
   "cell_type": "code",
   "execution_count": 1,
   "id": "39ff2a64-7446-4234-8286-e3e22cb484ce",
   "metadata": {},
   "outputs": [
    {
     "name": "stdout",
     "output_type": "stream",
     "text": [
      "[24, 59, 287, 190, 65479]\n",
      "24\n",
      "65479\n"
     ]
    }
   ],
   "source": [
    "alist = [24, 59, 287, 190, 65479]\n",
    "minimum = min(alist)\n",
    "maximum = max(alist)\n",
    "print(alist)\n",
    "print(minimum)\n",
    "print(maximum)"
   ]
  },
  {
   "cell_type": "code",
   "execution_count": null,
   "id": "ff26655d",
   "metadata": {},
   "outputs": [
    {
     "data": {
      "text/plain": [
       "3"
      ]
     },
     "execution_count": 8,
     "metadata": {},
     "output_type": "execute_result"
    }
   ],
   "source": [
    "a = [29, 72, 95, 5]\n",
    "b = (\"Ethel\", \"Awuor\", \"Ogallo\")\n",
    "c = {\"name\": \"Ethel\", \"age\":29, \"location\":\"Kenya\"}\n",
    "\n",
    "len(a)\n",
    "len(b)\n",
    "len(c)"
   ]
  },
  {
   "cell_type": "code",
   "execution_count": 16,
   "id": "caef5a2b",
   "metadata": {},
   "outputs": [
    {
     "data": {
      "text/plain": [
       "dict_values(['Ethel', 29, 'Kenya'])"
      ]
     },
     "execution_count": 16,
     "metadata": {},
     "output_type": "execute_result"
    }
   ],
   "source": [
    "c.values()"
   ]
  },
  {
   "cell_type": "code",
   "execution_count": 20,
   "id": "1280a397",
   "metadata": {},
   "outputs": [
    {
     "data": {
      "text/plain": [
       "{'__name__': '__main__',\n",
       " '__doc__': 'Automatically created module for IPython interactive environment',\n",
       " '__package__': None,\n",
       " '__loader__': None,\n",
       " '__spec__': None,\n",
       " '__builtin__': <module 'builtins' (built-in)>,\n",
       " '__builtins__': <module 'builtins' (built-in)>,\n",
       " '_ih': ['',\n",
       "  'alist = [24, 59, 287, 190, 65479]\\nminimum = min(alist)\\nmaximum = max(alist)\\nprint(alist)\\nprint(minimum)\\nprint(maximum)',\n",
       "  'a = [29, 72, 95, 5]\\nb = (Ethel, Awuor, Ogallo)\\nc = {name: Ethel, age:29, location:Kenya}',\n",
       "  'a = [29, 72, 95, 5]\\nb = (Ethel, Awuor, Ogallo)\\nc = {name: Ethel, age:29, location:Kenya}\\n\\nprint(type(b))',\n",
       "  'a = [29, 72, 95, 5]\\nb = (Ethel, Awuor, Ogallo)\\nc = {name: Ethel, age:29, location:Kenya}\\n\\nlen(a)',\n",
       "  'a = [29, 72, 95, 5]\\n#b = (Ethel, Awuor, Ogallo)\\nc = {name: Ethel, age:29, location:Kenya}',\n",
       "  'a = [29, 72, 95, 5]\\n#b = (Ethel, Awuor, Ogallo)\\n#c = {name: Ethel, age:29, location:Kenya}',\n",
       "  'len(a)',\n",
       "  'a = [29, 72, 95, 5]\\nb = (\"Ethel\", \"Awuor\", \"Ogallo\")\\nc = {\"name\": \"Ethel\", \"age\":29, \"location\":\"Kenya\"}\\n\\nlen(a)\\nlen(b)\\nlen(c)',\n",
       "  'len(b)',\n",
       "  'len(c)',\n",
       "  'sorted(c)',\n",
       "  'sorted(a)',\n",
       "  'sorted(b)',\n",
       "  'sorted(c.values())',\n",
       "  'sorted(c)',\n",
       "  'c.values()',\n",
       "  'dir()',\n",
       "  'globals()',\n",
       "  'locals()',\n",
       "  'vars()'],\n",
       " '_oh': {7: 4,\n",
       "  8: 3,\n",
       "  9: 3,\n",
       "  10: 3,\n",
       "  11: ['age', 'location', 'name'],\n",
       "  12: [5, 29, 72, 95],\n",
       "  13: ['Awuor', 'Ethel', 'Ogallo'],\n",
       "  15: ['age', 'location', 'name'],\n",
       "  16: dict_values(['Ethel', 29, 'Kenya']),\n",
       "  17: ['In',\n",
       "   'Out',\n",
       "   '_',\n",
       "   '_10',\n",
       "   '_11',\n",
       "   '_12',\n",
       "   '_13',\n",
       "   '_15',\n",
       "   '_16',\n",
       "   '_7',\n",
       "   '_8',\n",
       "   '_9',\n",
       "   '__',\n",
       "   '___',\n",
       "   '__builtin__',\n",
       "   '__builtins__',\n",
       "   '__doc__',\n",
       "   '__loader__',\n",
       "   '__name__',\n",
       "   '__package__',\n",
       "   '__spec__',\n",
       "   '__vsc_ipynb_file__',\n",
       "   '_dh',\n",
       "   '_i',\n",
       "   '_i1',\n",
       "   '_i10',\n",
       "   '_i11',\n",
       "   '_i12',\n",
       "   '_i13',\n",
       "   '_i14',\n",
       "   '_i15',\n",
       "   '_i16',\n",
       "   '_i17',\n",
       "   '_i2',\n",
       "   '_i3',\n",
       "   '_i4',\n",
       "   '_i5',\n",
       "   '_i6',\n",
       "   '_i7',\n",
       "   '_i8',\n",
       "   '_i9',\n",
       "   '_ih',\n",
       "   '_ii',\n",
       "   '_iii',\n",
       "   '_oh',\n",
       "   'a',\n",
       "   'alist',\n",
       "   'b',\n",
       "   'c',\n",
       "   'exit',\n",
       "   'get_ipython',\n",
       "   'maximum',\n",
       "   'minimum',\n",
       "   'open',\n",
       "   'quit'],\n",
       "  18: {...},\n",
       "  19: {...}},\n",
       " '_dh': [WindowsPath('c:/Users/Ethel Ogallo/Documents/CDE/PLUS/SS25/practice_softwaredev/PLUS_softwaredev_2025_mwanzo')],\n",
       " 'In': ['',\n",
       "  'alist = [24, 59, 287, 190, 65479]\\nminimum = min(alist)\\nmaximum = max(alist)\\nprint(alist)\\nprint(minimum)\\nprint(maximum)',\n",
       "  'a = [29, 72, 95, 5]\\nb = (Ethel, Awuor, Ogallo)\\nc = {name: Ethel, age:29, location:Kenya}',\n",
       "  'a = [29, 72, 95, 5]\\nb = (Ethel, Awuor, Ogallo)\\nc = {name: Ethel, age:29, location:Kenya}\\n\\nprint(type(b))',\n",
       "  'a = [29, 72, 95, 5]\\nb = (Ethel, Awuor, Ogallo)\\nc = {name: Ethel, age:29, location:Kenya}\\n\\nlen(a)',\n",
       "  'a = [29, 72, 95, 5]\\n#b = (Ethel, Awuor, Ogallo)\\nc = {name: Ethel, age:29, location:Kenya}',\n",
       "  'a = [29, 72, 95, 5]\\n#b = (Ethel, Awuor, Ogallo)\\n#c = {name: Ethel, age:29, location:Kenya}',\n",
       "  'len(a)',\n",
       "  'a = [29, 72, 95, 5]\\nb = (\"Ethel\", \"Awuor\", \"Ogallo\")\\nc = {\"name\": \"Ethel\", \"age\":29, \"location\":\"Kenya\"}\\n\\nlen(a)\\nlen(b)\\nlen(c)',\n",
       "  'len(b)',\n",
       "  'len(c)',\n",
       "  'sorted(c)',\n",
       "  'sorted(a)',\n",
       "  'sorted(b)',\n",
       "  'sorted(c.values())',\n",
       "  'sorted(c)',\n",
       "  'c.values()',\n",
       "  'dir()',\n",
       "  'globals()',\n",
       "  'locals()',\n",
       "  'vars()'],\n",
       " 'Out': {7: 4,\n",
       "  8: 3,\n",
       "  9: 3,\n",
       "  10: 3,\n",
       "  11: ['age', 'location', 'name'],\n",
       "  12: [5, 29, 72, 95],\n",
       "  13: ['Awuor', 'Ethel', 'Ogallo'],\n",
       "  15: ['age', 'location', 'name'],\n",
       "  16: dict_values(['Ethel', 29, 'Kenya']),\n",
       "  17: ['In',\n",
       "   'Out',\n",
       "   '_',\n",
       "   '_10',\n",
       "   '_11',\n",
       "   '_12',\n",
       "   '_13',\n",
       "   '_15',\n",
       "   '_16',\n",
       "   '_7',\n",
       "   '_8',\n",
       "   '_9',\n",
       "   '__',\n",
       "   '___',\n",
       "   '__builtin__',\n",
       "   '__builtins__',\n",
       "   '__doc__',\n",
       "   '__loader__',\n",
       "   '__name__',\n",
       "   '__package__',\n",
       "   '__spec__',\n",
       "   '__vsc_ipynb_file__',\n",
       "   '_dh',\n",
       "   '_i',\n",
       "   '_i1',\n",
       "   '_i10',\n",
       "   '_i11',\n",
       "   '_i12',\n",
       "   '_i13',\n",
       "   '_i14',\n",
       "   '_i15',\n",
       "   '_i16',\n",
       "   '_i17',\n",
       "   '_i2',\n",
       "   '_i3',\n",
       "   '_i4',\n",
       "   '_i5',\n",
       "   '_i6',\n",
       "   '_i7',\n",
       "   '_i8',\n",
       "   '_i9',\n",
       "   '_ih',\n",
       "   '_ii',\n",
       "   '_iii',\n",
       "   '_oh',\n",
       "   'a',\n",
       "   'alist',\n",
       "   'b',\n",
       "   'c',\n",
       "   'exit',\n",
       "   'get_ipython',\n",
       "   'maximum',\n",
       "   'minimum',\n",
       "   'open',\n",
       "   'quit'],\n",
       "  18: {...},\n",
       "  19: {...}},\n",
       " 'get_ipython': <bound method InteractiveShell.get_ipython of <ipykernel.zmqshell.ZMQInteractiveShell object at 0x0000023D2E766F90>>,\n",
       " 'exit': <IPython.core.autocall.ZMQExitAutocall at 0x23d2e7f4830>,\n",
       " 'quit': <IPython.core.autocall.ZMQExitAutocall at 0x23d2e7f4830>,\n",
       " 'open': <function _io.open(file, mode='r', buffering=-1, encoding=None, errors=None, newline=None, closefd=True, opener=None)>,\n",
       " '_': {...},\n",
       " '__': {...},\n",
       " '___': ['In',\n",
       "  'Out',\n",
       "  '_',\n",
       "  '_10',\n",
       "  '_11',\n",
       "  '_12',\n",
       "  '_13',\n",
       "  '_15',\n",
       "  '_16',\n",
       "  '_7',\n",
       "  '_8',\n",
       "  '_9',\n",
       "  '__',\n",
       "  '___',\n",
       "  '__builtin__',\n",
       "  '__builtins__',\n",
       "  '__doc__',\n",
       "  '__loader__',\n",
       "  '__name__',\n",
       "  '__package__',\n",
       "  '__spec__',\n",
       "  '__vsc_ipynb_file__',\n",
       "  '_dh',\n",
       "  '_i',\n",
       "  '_i1',\n",
       "  '_i10',\n",
       "  '_i11',\n",
       "  '_i12',\n",
       "  '_i13',\n",
       "  '_i14',\n",
       "  '_i15',\n",
       "  '_i16',\n",
       "  '_i17',\n",
       "  '_i2',\n",
       "  '_i3',\n",
       "  '_i4',\n",
       "  '_i5',\n",
       "  '_i6',\n",
       "  '_i7',\n",
       "  '_i8',\n",
       "  '_i9',\n",
       "  '_ih',\n",
       "  '_ii',\n",
       "  '_iii',\n",
       "  '_oh',\n",
       "  'a',\n",
       "  'alist',\n",
       "  'b',\n",
       "  'c',\n",
       "  'exit',\n",
       "  'get_ipython',\n",
       "  'maximum',\n",
       "  'minimum',\n",
       "  'open',\n",
       "  'quit'],\n",
       " '__vsc_ipynb_file__': 'c:\\\\Users\\\\Ethel Ogallo\\\\Documents\\\\CDE\\\\PLUS\\\\SS25\\\\practice_softwaredev\\\\PLUS_softwaredev_2025_mwanzo\\\\new_v1.ipynb',\n",
       " '_i': 'locals()',\n",
       " '_ii': 'globals()',\n",
       " '_iii': 'dir()',\n",
       " '_i1': 'alist = [24, 59, 287, 190, 65479]\\nminimum = min(alist)\\nmaximum = max(alist)\\nprint(alist)\\nprint(minimum)\\nprint(maximum)',\n",
       " 'alist': [24, 59, 287, 190, 65479],\n",
       " 'minimum': 24,\n",
       " 'maximum': 65479,\n",
       " '_i2': 'a = [29, 72, 95, 5]\\nb = (Ethel, Awuor, Ogallo)\\nc = {name: Ethel, age:29, location:Kenya}',\n",
       " 'a': [29, 72, 95, 5],\n",
       " '_i3': 'a = [29, 72, 95, 5]\\nb = (Ethel, Awuor, Ogallo)\\nc = {name: Ethel, age:29, location:Kenya}\\n\\nprint(type(b))',\n",
       " '_i4': 'a = [29, 72, 95, 5]\\nb = (Ethel, Awuor, Ogallo)\\nc = {name: Ethel, age:29, location:Kenya}\\n\\nlen(a)',\n",
       " '_i5': 'a = [29, 72, 95, 5]\\n#b = (Ethel, Awuor, Ogallo)\\nc = {name: Ethel, age:29, location:Kenya}',\n",
       " '_i6': 'a = [29, 72, 95, 5]\\n#b = (Ethel, Awuor, Ogallo)\\n#c = {name: Ethel, age:29, location:Kenya}',\n",
       " '_i7': 'len(a)',\n",
       " '_7': 4,\n",
       " '_i8': 'a = [29, 72, 95, 5]\\nb = (\"Ethel\", \"Awuor\", \"Ogallo\")\\nc = {\"name\": \"Ethel\", \"age\":29, \"location\":\"Kenya\"}\\n\\nlen(a)\\nlen(b)\\nlen(c)',\n",
       " 'b': ('Ethel', 'Awuor', 'Ogallo'),\n",
       " 'c': {'name': 'Ethel', 'age': 29, 'location': 'Kenya'},\n",
       " '_8': 3,\n",
       " '_i9': 'len(b)',\n",
       " '_9': 3,\n",
       " '_i10': 'len(c)',\n",
       " '_10': 3,\n",
       " '_i11': 'sorted(c)',\n",
       " '_11': ['age', 'location', 'name'],\n",
       " '_i12': 'sorted(a)',\n",
       " '_12': [5, 29, 72, 95],\n",
       " '_i13': 'sorted(b)',\n",
       " '_13': ['Awuor', 'Ethel', 'Ogallo'],\n",
       " '_i14': 'sorted(c.values())',\n",
       " '_i15': 'sorted(c)',\n",
       " '_15': ['age', 'location', 'name'],\n",
       " '_i16': 'c.values()',\n",
       " '_16': dict_values(['Ethel', 29, 'Kenya']),\n",
       " '_i17': 'dir()',\n",
       " '_17': ['In',\n",
       "  'Out',\n",
       "  '_',\n",
       "  '_10',\n",
       "  '_11',\n",
       "  '_12',\n",
       "  '_13',\n",
       "  '_15',\n",
       "  '_16',\n",
       "  '_7',\n",
       "  '_8',\n",
       "  '_9',\n",
       "  '__',\n",
       "  '___',\n",
       "  '__builtin__',\n",
       "  '__builtins__',\n",
       "  '__doc__',\n",
       "  '__loader__',\n",
       "  '__name__',\n",
       "  '__package__',\n",
       "  '__spec__',\n",
       "  '__vsc_ipynb_file__',\n",
       "  '_dh',\n",
       "  '_i',\n",
       "  '_i1',\n",
       "  '_i10',\n",
       "  '_i11',\n",
       "  '_i12',\n",
       "  '_i13',\n",
       "  '_i14',\n",
       "  '_i15',\n",
       "  '_i16',\n",
       "  '_i17',\n",
       "  '_i2',\n",
       "  '_i3',\n",
       "  '_i4',\n",
       "  '_i5',\n",
       "  '_i6',\n",
       "  '_i7',\n",
       "  '_i8',\n",
       "  '_i9',\n",
       "  '_ih',\n",
       "  '_ii',\n",
       "  '_iii',\n",
       "  '_oh',\n",
       "  'a',\n",
       "  'alist',\n",
       "  'b',\n",
       "  'c',\n",
       "  'exit',\n",
       "  'get_ipython',\n",
       "  'maximum',\n",
       "  'minimum',\n",
       "  'open',\n",
       "  'quit'],\n",
       " '_i18': 'globals()',\n",
       " '_18': {...},\n",
       " '_i19': 'locals()',\n",
       " '_19': {...},\n",
       " '_i20': 'vars()'}"
      ]
     },
     "execution_count": 20,
     "metadata": {},
     "output_type": "execute_result"
    }
   ],
   "source": [
    "vars()"
   ]
  },
  {
   "cell_type": "code",
   "execution_count": 35,
   "id": "96f28517",
   "metadata": {},
   "outputs": [],
   "source": [
    "import file_v2"
   ]
  },
  {
   "cell_type": "code",
   "execution_count": 32,
   "id": "9201143a",
   "metadata": {},
   "outputs": [],
   "source": [
    "import geopandas as gpd"
   ]
  },
  {
   "cell_type": "code",
   "execution_count": 37,
   "id": "9666a3fc",
   "metadata": {},
   "outputs": [
    {
     "ename": "AttributeError",
     "evalue": "'list' object has no attribute 'crs'",
     "output_type": "error",
     "traceback": [
      "\u001b[1;31m---------------------------------------------------------------------------\u001b[0m",
      "\u001b[1;31mAttributeError\u001b[0m                            Traceback (most recent call last)",
      "Cell \u001b[1;32mIn[37], line 5\u001b[0m\n\u001b[0;32m      2\u001b[0m buffer \u001b[38;5;241m=\u001b[39m \u001b[38;5;241m0.177\u001b[39m\n\u001b[0;32m      3\u001b[0m location \u001b[38;5;241m=\u001b[39m [lon \u001b[38;5;241m-\u001b[39m buffer, lat \u001b[38;5;241m-\u001b[39m buffer, lon \u001b[38;5;241m+\u001b[39m buffer, lat \u001b[38;5;241m+\u001b[39m buffer]\n\u001b[1;32m----> 5\u001b[0m \u001b[43mfile_v2\u001b[49m\u001b[38;5;241;43m.\u001b[39;49m\u001b[43mget_crs\u001b[49m\u001b[43m(\u001b[49m\u001b[43mlocation\u001b[49m\u001b[43m)\u001b[49m\n",
      "File \u001b[1;32mc:\\Users\\Ethel Ogallo\\Documents\\CDE\\PLUS\\SS25\\practice_softwaredev\\PLUS_softwaredev_2025_mwanzo\\file_v2.py:6\u001b[0m, in \u001b[0;36mget_crs\u001b[1;34m(location)\u001b[0m\n\u001b[0;32m      2\u001b[0m \u001b[38;5;28;01mdef\u001b[39;00m \u001b[38;5;21mget_crs\u001b[39m(location):\n\u001b[0;32m      3\u001b[0m \u001b[38;5;250m    \u001b[39m\u001b[38;5;124;03m\"\"\" This function gives back the CRS of \u001b[39;00m\n\u001b[0;32m      4\u001b[0m \u001b[38;5;124;03m    the location which should be geodataframe\u001b[39;00m\n\u001b[0;32m      5\u001b[0m \u001b[38;5;124;03m    \"\"\"\u001b[39;00m\n\u001b[1;32m----> 6\u001b[0m     \u001b[38;5;28;01mreturn\u001b[39;00m \u001b[43mlocation\u001b[49m\u001b[38;5;241;43m.\u001b[39;49m\u001b[43mcrs\u001b[49m\n",
      "\u001b[1;31mAttributeError\u001b[0m: 'list' object has no attribute 'crs'"
     ]
    }
   ],
   "source": [
    "lat,lon = -17.97757, 35.7130\n",
    "buffer = 0.177\n",
    "location = [lon - buffer, lat - buffer, lon + buffer, lat + buffer]\n",
    "\n",
    "file_v2.get_crs(location)"
   ]
  },
  {
   "cell_type": "code",
   "execution_count": null,
   "id": "1811d2d9",
   "metadata": {},
   "outputs": [],
   "source": []
  }
 ],
 "metadata": {
  "kernelspec": {
   "display_name": "PSD_25",
   "language": "python",
   "name": "python3"
  },
  "language_info": {
   "codemirror_mode": {
    "name": "ipython",
    "version": 3
   },
   "file_extension": ".py",
   "mimetype": "text/x-python",
   "name": "python",
   "nbconvert_exporter": "python",
   "pygments_lexer": "ipython3",
   "version": "3.13.2"
  }
 },
 "nbformat": 4,
 "nbformat_minor": 5
}
