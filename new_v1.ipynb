{
 "cells": [
  {
   "cell_type": "markdown",
   "id": "0c2d7dd0-1221-45bc-8d4f-dd4243030c46",
   "metadata": {},
   "source": [
    "Testing jupyter noteboks"
   ]
  },
  {
   "cell_type": "code",
   "execution_count": 1,
   "id": "04677c21-ed1e-43fb-9bbc-0301008ed14b",
   "metadata": {},
   "outputs": [],
   "source": [
    "import file_v1"
   ]
  },
  {
   "cell_type": "code",
   "execution_count": 2,
   "id": "71d3aef4-e0b4-4f99-9387-4bd1675dd4c6",
   "metadata": {},
   "outputs": [
    {
     "data": {
      "text/plain": [
       "7"
      ]
     },
     "execution_count": 2,
     "metadata": {},
     "output_type": "execute_result"
    }
   ],
   "source": [
    "file_v1.days_of_the_week"
   ]
  },
  {
   "cell_type": "code",
   "execution_count": 3,
   "id": "3b000636-a1ac-466c-8a59-036c83ab6b28",
   "metadata": {},
   "outputs": [
    {
     "name": "stdout",
     "output_type": "stream",
     "text": [
      "Hello, world! Hello ethel\n"
     ]
    },
    {
     "data": {
      "text/plain": [
       "'ethel'"
      ]
     },
     "execution_count": 3,
     "metadata": {},
     "output_type": "execute_result"
    }
   ],
   "source": [
    "file_v1.say_hello('ethel')"
   ]
  },
  {
   "cell_type": "code",
   "execution_count": null,
   "id": "39ff2a64-7446-4234-8286-e3e22cb484ce",
   "metadata": {},
   "outputs": [],
   "source": []
  }
 ],
 "metadata": {
  "kernelspec": {
   "display_name": "Python 3 (ipykernel)",
   "language": "python",
   "name": "python3"
  },
  "language_info": {
   "codemirror_mode": {
    "name": "ipython",
    "version": 3
   },
   "file_extension": ".py",
   "mimetype": "text/x-python",
   "name": "python",
   "nbconvert_exporter": "python",
   "pygments_lexer": "ipython3",
   "version": "3.12.3"
  }
 },
 "nbformat": 4,
 "nbformat_minor": 5
}
