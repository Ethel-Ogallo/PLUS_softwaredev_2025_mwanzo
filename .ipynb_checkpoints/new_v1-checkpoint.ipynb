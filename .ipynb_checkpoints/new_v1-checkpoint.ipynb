{
 "cells": [
  {
   "cell_type": "markdown",
   "id": "0c2d7dd0-1221-45bc-8d4f-dd4243030c46",
   "metadata": {},
   "source": [
    "Testing jupyter noteboks"
   ]
  },
  {
   "cell_type": "code",
   "execution_count": null,
   "id": "04677c21-ed1e-43fb-9bbc-0301008ed14b",
   "metadata": {},
   "outputs": [],
   "source": []
  }
 ],
 "metadata": {
  "kernelspec": {
   "display_name": "Python 3 (ipykernel)",
   "language": "python",
   "name": "python3"
  },
  "language_info": {
   "codemirror_mode": {
    "name": "ipython",
    "version": 3
   },
   "file_extension": ".py",
   "mimetype": "text/x-python",
   "name": "python",
   "nbconvert_exporter": "python",
   "pygments_lexer": "ipython3",
   "version": "3.12.3"
  }
 },
 "nbformat": 4,
 "nbformat_minor": 5
}
